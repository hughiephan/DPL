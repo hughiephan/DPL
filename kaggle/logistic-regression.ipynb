{
 "cells": [
  {
   "cell_type": "markdown",
   "id": "00655f79",
   "metadata": {
    "papermill": {
     "duration": 0.003011,
     "end_time": "2023-12-11T10:41:53.522312",
     "exception": false,
     "start_time": "2023-12-11T10:41:53.519301",
     "status": "completed"
    },
    "tags": []
   },
   "source": [
    "# Introduction\n",
    "\n",
    "This notebook explores logistic regression to predict student pass/fail outcomes based on study hours. We start with preparing the data and training the logistic regression model to make predictions solely from the hours studied. Then evaluates the model's accuracy and identifies points where predictions differ from actual outcomes. Additionally, we will visualize the regression line and scatter points using seaborn, distinguishing correct and incorrect predictions.\n",
    "\n",
    "If you're interested in exploring similar data analysis or learning more about AI applications, then checkout my personal website https://hughiephan.co . Don't forget to upvote if you found the notebook insightful or helpful. Your feedback is valuable and can help others discover useful content."
   ]
  },
  {
   "cell_type": "markdown",
   "id": "696fb862",
   "metadata": {
    "papermill": {
     "duration": 0.002289,
     "end_time": "2023-12-11T10:41:53.527281",
     "exception": false,
     "start_time": "2023-12-11T10:41:53.524992",
     "status": "completed"
    },
    "tags": []
   },
   "source": [
    "# Import libraries"
   ]
  },
  {
   "cell_type": "code",
   "execution_count": 1,
   "id": "2816299c",
   "metadata": {
    "execution": {
     "iopub.execute_input": "2023-12-11T10:41:53.534024Z",
     "iopub.status.busy": "2023-12-11T10:41:53.533647Z",
     "iopub.status.idle": "2023-12-11T10:41:55.821763Z",
     "shell.execute_reply": "2023-12-11T10:41:55.820655Z"
    },
    "papermill": {
     "duration": 2.294532,
     "end_time": "2023-12-11T10:41:55.824280",
     "exception": false,
     "start_time": "2023-12-11T10:41:53.529748",
     "status": "completed"
    },
    "tags": []
   },
   "outputs": [],
   "source": [
    "import pandas as pd\n",
    "import seaborn as sns\n",
    "import matplotlib.pyplot as plt\n",
    "import numpy as np\n",
    "from sklearn.metrics import accuracy_score\n",
    "from sklearn.linear_model import LogisticRegression"
   ]
  },
  {
   "cell_type": "markdown",
   "id": "5dec3e25",
   "metadata": {
    "papermill": {
     "duration": 0.002286,
     "end_time": "2023-12-11T10:41:55.829259",
     "exception": false,
     "start_time": "2023-12-11T10:41:55.826973",
     "status": "completed"
    },
    "tags": []
   },
   "source": [
    "# Load data\n",
    "\n",
    "Create a Pandas DataFrame using study hours and pass/fail data for students, setting the stage to explore the potential relationship between study hours and exam outcomes using logistic regression."
   ]
  },
  {
   "cell_type": "code",
   "execution_count": 2,
   "id": "5fc99178",
   "metadata": {
    "execution": {
     "iopub.execute_input": "2023-12-11T10:41:55.836154Z",
     "iopub.status.busy": "2023-12-11T10:41:55.835578Z",
     "iopub.status.idle": "2023-12-11T10:41:55.844741Z",
     "shell.execute_reply": "2023-12-11T10:41:55.843300Z"
    },
    "papermill": {
     "duration": 0.015146,
     "end_time": "2023-12-11T10:41:55.846909",
     "exception": false,
     "start_time": "2023-12-11T10:41:55.831763",
     "status": "completed"
    },
    "tags": []
   },
   "outputs": [],
   "source": [
    "data = {'Hours': [0.5, 0.75, 1, 1.25, 1.5, 1.75, 1.75, 2, 2.25, 2.5, 2.75, 3, 3.25, 3.5, 4, 4.25, 4.5, 4.75, 5, 5.5],\n",
    "        'Pass': [0, 0, 0, 0 ,0, 0, 1, 0, 1, 0, 1,0, 1,0, 1,1,1,1,1,1]}\n",
    "df = pd.DataFrame(data)"
   ]
  },
  {
   "cell_type": "markdown",
   "id": "577c0fea",
   "metadata": {
    "papermill": {
     "duration": 0.002425,
     "end_time": "2023-12-11T10:41:55.852222",
     "exception": false,
     "start_time": "2023-12-11T10:41:55.849797",
     "status": "completed"
    },
    "tags": []
   },
   "source": [
    "# Model\n",
    "Builds a logistic regression model using the 'Hours' column from the DataFrame to predict 'Pass' outcomes. Then generates predictions based on study hours and displays these predictions indicating pass or fail for each corresponding hour value."
   ]
  },
  {
   "cell_type": "code",
   "execution_count": 3,
   "id": "ad5b15dc",
   "metadata": {
    "execution": {
     "iopub.execute_input": "2023-12-11T10:41:55.858972Z",
     "iopub.status.busy": "2023-12-11T10:41:55.858541Z",
     "iopub.status.idle": "2023-12-11T10:41:55.898495Z",
     "shell.execute_reply": "2023-12-11T10:41:55.897617Z"
    },
    "papermill": {
     "duration": 0.046141,
     "end_time": "2023-12-11T10:41:55.900988",
     "exception": false,
     "start_time": "2023-12-11T10:41:55.854847",
     "status": "completed"
    },
    "tags": []
   },
   "outputs": [
    {
     "name": "stdout",
     "output_type": "stream",
     "text": [
      "Pass prediction based on Hours:  [0 0 0 0 0 0 0 0 0 0 1 1 1 1 1 1 1 1 1 1]\n"
     ]
    }
   ],
   "source": [
    "model = LogisticRegression()\n",
    "model.fit(df[['Hours']], df['Pass'])\n",
    "binary_predictions = model.predict(df[['Hours']])\n",
    "print(\"Pass prediction based on Hours: \", binary_predictions)"
   ]
  },
  {
   "cell_type": "markdown",
   "id": "fdd4dd45",
   "metadata": {
    "papermill": {
     "duration": 0.002605,
     "end_time": "2023-12-11T10:41:55.906580",
     "exception": false,
     "start_time": "2023-12-11T10:41:55.903975",
     "status": "completed"
    },
    "tags": []
   },
   "source": [
    "# Evaluate\n",
    "Evaluates the accuracy of the logistic regression model by comparing the predicted 'Pass' outcomes with the actual 'Pass' values in the DataFrame. Then calculatee the accuracy score and identifies incorrect predictions, displaying the corresponding rows and the overall accuracy of the model."
   ]
  },
  {
   "cell_type": "code",
   "execution_count": 4,
   "id": "9cac8d03",
   "metadata": {
    "execution": {
     "iopub.execute_input": "2023-12-11T10:41:55.914866Z",
     "iopub.status.busy": "2023-12-11T10:41:55.914057Z",
     "iopub.status.idle": "2023-12-11T10:41:55.929218Z",
     "shell.execute_reply": "2023-12-11T10:41:55.928298Z"
    },
    "papermill": {
     "duration": 0.022447,
     "end_time": "2023-12-11T10:41:55.931882",
     "exception": false,
     "start_time": "2023-12-11T10:41:55.909435",
     "status": "completed"
    },
    "tags": []
   },
   "outputs": [
    {
     "name": "stdout",
     "output_type": "stream",
     "text": [
      "Incorrect predictions:\n",
      "    Hours  Pass\n",
      "6    1.75     1\n",
      "8    2.25     1\n",
      "11   3.00     0\n",
      "13   3.50     0\n",
      "Accuracy  0.8\n"
     ]
    }
   ],
   "source": [
    "accuracy = accuracy_score(df['Pass'], binary_predictions)\n",
    "incorrect_indices = np.where(df['Pass'] != binary_predictions)\n",
    "print(\"Incorrect predictions:\")\n",
    "print(df.iloc[incorrect_indices])\n",
    "print(\"Accuracy \", accuracy)"
   ]
  }
 ],
 "metadata": {
  "kaggle": {
   "accelerator": "none",
   "dataSources": [],
   "isGpuEnabled": false,
   "isInternetEnabled": true,
   "language": "python",
   "sourceType": "notebook"
  },
  "kernelspec": {
   "display_name": "Python 3",
   "language": "python",
   "name": "python3"
  },
  "language_info": {
   "codemirror_mode": {
    "name": "ipython",
    "version": 3
   },
   "file_extension": ".py",
   "mimetype": "text/x-python",
   "name": "python",
   "nbconvert_exporter": "python",
   "pygments_lexer": "ipython3",
   "version": "3.10.12"
  },
  "papermill": {
   "default_parameters": {},
   "duration": 6.121613,
   "end_time": "2023-12-11T10:41:56.556714",
   "environment_variables": {},
   "exception": null,
   "input_path": "__notebook__.ipynb",
   "output_path": "__notebook__.ipynb",
   "parameters": {},
   "start_time": "2023-12-11T10:41:50.435101",
   "version": "2.4.0"
  }
 },
 "nbformat": 4,
 "nbformat_minor": 5
}
