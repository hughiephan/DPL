{
 "cells": [
  {
   "cell_type": "markdown",
   "id": "9a0447d6",
   "metadata": {
    "papermill": {
     "duration": 0.004216,
     "end_time": "2024-01-08T10:12:19.175721",
     "exception": false,
     "start_time": "2024-01-08T10:12:19.171505",
     "status": "completed"
    },
    "tags": []
   },
   "source": [
    "![image.png](https://cdn-coiao.nitrocdn.com/CYHudqJZsSxQpAPzLkHFOkuzFKDpEHGF/assets/images/optimized/rev-7841bc2/www.sharpsightlabs.com/wp-content/uploads/2020/03/numpy-flatten-visua-example.png)\n",
    "\n",
    "## Introduction\n",
    "\n",
    "A flattened image refers to the transformation of a two-dimensional array, such as an image represented in a matrix form (like a grid of pixel values), into a one-dimensional array. For example, in the context of image data, a grayscale image of dimensions 28x28 pixels can be reshaped or \"flattened\" into a single row of 784 (28x28) pixel values. This transformation is essential when using a Multilayer Perceptron (MLP) model, which typically requires inputs to be in a flat format, commonly represented as a single vector or array.\n",
    "\n",
    "If you're interested in exploring similar data analysis or learning more about AI applications, then checkout my personal website https://hughiephan.co . Don't forget to upvote if you found the notebook insightful or helpful. Your feedback is valuable and can help others discover useful content."
   ]
  },
  {
   "cell_type": "markdown",
   "id": "8d788e0c",
   "metadata": {
    "papermill": {
     "duration": 0.003374,
     "end_time": "2024-01-08T10:12:19.183590",
     "exception": false,
     "start_time": "2024-01-08T10:12:19.180216",
     "status": "completed"
    },
    "tags": []
   },
   "source": [
    "## Import libraries"
   ]
  },
  {
   "cell_type": "code",
   "execution_count": 1,
   "id": "58f298c3",
   "metadata": {
    "_cell_guid": "b1076dfc-b9ad-4769-8c92-a6c4dae69d19",
    "_uuid": "8f2839f25d086af736a60e9eeb907d3b93b6e0e5",
    "execution": {
     "iopub.execute_input": "2024-01-08T10:12:19.192584Z",
     "iopub.status.busy": "2024-01-08T10:12:19.192161Z",
     "iopub.status.idle": "2024-01-08T10:12:33.296062Z",
     "shell.execute_reply": "2024-01-08T10:12:33.295102Z"
    },
    "papermill": {
     "duration": 14.111548,
     "end_time": "2024-01-08T10:12:33.298664",
     "exception": false,
     "start_time": "2024-01-08T10:12:19.187116",
     "status": "completed"
    },
    "tags": []
   },
   "outputs": [],
   "source": [
    "import tensorflow as tf\n",
    "import numpy as np\n",
    "import matplotlib as mpl\n",
    "import matplotlib.pyplot as plt\n",
    "from tensorflow import keras"
   ]
  },
  {
   "cell_type": "markdown",
   "id": "ac9d543f",
   "metadata": {
    "papermill": {
     "duration": 0.003287,
     "end_time": "2024-01-08T10:12:33.305890",
     "exception": false,
     "start_time": "2024-01-08T10:12:33.302603",
     "status": "completed"
    },
    "tags": []
   },
   "source": [
    "## Import dataset\n",
    "\n",
    "Fashion MNIST is a dataset containing grayscale images of clothing items (like shirts, shoes, dresses, etc.) in 28x28 pixel format, commonly used for learning computer vision tasks. Then we separate it into training and testing subsets, each with their respective images `X` and labels `Y`, which can then be used for training and evaluating"
   ]
  },
  {
   "cell_type": "code",
   "execution_count": 2,
   "id": "9bc0702d",
   "metadata": {
    "execution": {
     "iopub.execute_input": "2024-01-08T10:12:33.314779Z",
     "iopub.status.busy": "2024-01-08T10:12:33.314097Z",
     "iopub.status.idle": "2024-01-08T10:12:37.338746Z",
     "shell.execute_reply": "2024-01-08T10:12:37.337553Z"
    },
    "papermill": {
     "duration": 4.032165,
     "end_time": "2024-01-08T10:12:37.341538",
     "exception": false,
     "start_time": "2024-01-08T10:12:33.309373",
     "status": "completed"
    },
    "tags": []
   },
   "outputs": [
    {
     "name": "stdout",
     "output_type": "stream",
     "text": [
      "Downloading data from https://storage.googleapis.com/tensorflow/tf-keras-datasets/train-labels-idx1-ubyte.gz\n",
      "29515/29515 [==============================] - 0s 1us/step\n",
      "Downloading data from https://storage.googleapis.com/tensorflow/tf-keras-datasets/train-images-idx3-ubyte.gz\n",
      "26421880/26421880 [==============================] - 2s 0us/step\n",
      "Downloading data from https://storage.googleapis.com/tensorflow/tf-keras-datasets/t10k-labels-idx1-ubyte.gz\n",
      "5148/5148 [==============================] - 0s 0us/step\n",
      "Downloading data from https://storage.googleapis.com/tensorflow/tf-keras-datasets/t10k-images-idx3-ubyte.gz\n",
      "4422102/4422102 [==============================] - 1s 0us/step\n"
     ]
    }
   ],
   "source": [
    "fashion_mnist = keras.datasets.fashion_mnist\n",
    "(X_train_full, y_train_full), (X_test, y_test) = fashion_mnist.load_data()"
   ]
  },
  {
   "cell_type": "markdown",
   "id": "38e352a0",
   "metadata": {
    "papermill": {
     "duration": 0.006695,
     "end_time": "2024-01-08T10:12:37.355499",
     "exception": false,
     "start_time": "2024-01-08T10:12:37.348804",
     "status": "completed"
    },
    "tags": []
   },
   "source": [
    "## Normalization\n",
    "\n",
    "Scale the pixel intensities down to the 0-1 range by dividing them by 255.0 . We also the limit the number of images to 5000 by using `[:5000]` for a faster training time"
   ]
  },
  {
   "cell_type": "code",
   "execution_count": 3,
   "id": "9ce74a46",
   "metadata": {
    "execution": {
     "iopub.execute_input": "2024-01-08T10:12:37.371232Z",
     "iopub.status.busy": "2024-01-08T10:12:37.370856Z",
     "iopub.status.idle": "2024-01-08T10:12:37.596228Z",
     "shell.execute_reply": "2024-01-08T10:12:37.595254Z"
    },
    "papermill": {
     "duration": 0.236307,
     "end_time": "2024-01-08T10:12:37.598801",
     "exception": false,
     "start_time": "2024-01-08T10:12:37.362494",
     "status": "completed"
    },
    "tags": []
   },
   "outputs": [],
   "source": [
    "X_valid, X_train = X_train_full[:5000] / 255., X_train_full[5000:] / 255. \n",
    "y_valid, y_train = y_train_full[:5000], y_train_full[5000:]\n",
    "X_test = X_test / 255."
   ]
  },
  {
   "cell_type": "markdown",
   "id": "6446e9f3",
   "metadata": {
    "papermill": {
     "duration": 0.006767,
     "end_time": "2024-01-08T10:12:37.612894",
     "exception": false,
     "start_time": "2024-01-08T10:12:37.606127",
     "status": "completed"
    },
    "tags": []
   },
   "source": [
    "## Define model\n",
    "\n",
    "Our model architecture is defined sequentially with layers: first, a `Flatten` layer reshapes the `28x28` input images into a flat 1D array. Subsequently, two Dense layers follow, each with ReLU activation functions—`300` neurons in the first layer and `100` neurons in the second. The final Dense layer, consisting of `10` neurons with a softmax activation function, produces probabilities for the `10` classes present in the Fashion MNIST dataset. Our training settings will use `sparse categorical cross-entropy` loss which is suitable for multi-class classification, and Stochastic Gradient Descent `SGD` optimizer, and tracking accuracy as the evaluation metric"
   ]
  },
  {
   "cell_type": "code",
   "execution_count": 4,
   "id": "61eda3fe",
   "metadata": {
    "execution": {
     "iopub.execute_input": "2024-01-08T10:12:37.628798Z",
     "iopub.status.busy": "2024-01-08T10:12:37.628424Z",
     "iopub.status.idle": "2024-01-08T10:12:37.860069Z",
     "shell.execute_reply": "2024-01-08T10:12:37.857708Z"
    },
    "papermill": {
     "duration": 0.247497,
     "end_time": "2024-01-08T10:12:37.867461",
     "exception": false,
     "start_time": "2024-01-08T10:12:37.619964",
     "status": "completed"
    },
    "tags": []
   },
   "outputs": [
    {
     "name": "stdout",
     "output_type": "stream",
     "text": [
      "Model: \"sequential\"\n",
      "_________________________________________________________________\n",
      " Layer (type)                Output Shape              Param #   \n",
      "=================================================================\n",
      " flatten (Flatten)           (None, 784)               0         \n",
      "                                                                 \n",
      " dense (Dense)               (None, 300)               235500    \n",
      "                                                                 \n",
      " dense_1 (Dense)             (None, 100)               30100     \n",
      "                                                                 \n",
      " dense_2 (Dense)             (None, 10)                1010      \n",
      "                                                                 \n",
      "=================================================================\n",
      "Total params: 266610 (1.02 MB)\n",
      "Trainable params: 266610 (1.02 MB)\n",
      "Non-trainable params: 0 (0.00 Byte)\n",
      "_________________________________________________________________\n"
     ]
    }
   ],
   "source": [
    "model = keras.models.Sequential([\n",
    "    keras.layers.Flatten(input_shape=[28, 28]),\n",
    "    keras.layers.Dense(300, activation=\"relu\"),\n",
    "    keras.layers.Dense(100, activation=\"relu\"),\n",
    "    keras.layers.Dense(10, activation=\"softmax\")\n",
    "])\n",
    "model.compile(loss=\"sparse_categorical_crossentropy\", optimizer=\"sgd\", metrics=[\"accuracy\"])\n",
    "model.summary()"
   ]
  },
  {
   "cell_type": "markdown",
   "id": "570fb48f",
   "metadata": {
    "papermill": {
     "duration": 0.00784,
     "end_time": "2024-01-08T10:12:37.883347",
     "exception": false,
     "start_time": "2024-01-08T10:12:37.875507",
     "status": "completed"
    },
    "tags": []
   },
   "source": [
    "## Training\n",
    "\n",
    "We start by training the defined model using the `fit` method on the training dataset (X_train and y_train) over 5 epochs. During this process, the model learns from the input features `X_train` and their corresponding target labels `y_train`. Additionally, it validates the model's performance on a separate validation dataset `X_valid` and `y_valid` after each epoch, allowing observation of how well the model generalizes to new, unseen data. Following the training process, the evaluate method is used to assess the model's performance using a different set of unseen data, the test dataset `X_test` and `y_test`. This step provides insights into the model's accuracy and other relevant metrics when confronted with data it hasn't encountered during training"
   ]
  },
  {
   "cell_type": "code",
   "execution_count": 5,
   "id": "924eaf7a",
   "metadata": {
    "execution": {
     "iopub.execute_input": "2024-01-08T10:12:37.902940Z",
     "iopub.status.busy": "2024-01-08T10:12:37.902548Z",
     "iopub.status.idle": "2024-01-08T10:13:07.202826Z",
     "shell.execute_reply": "2024-01-08T10:13:07.201651Z"
    },
    "papermill": {
     "duration": 29.312699,
     "end_time": "2024-01-08T10:13:07.205507",
     "exception": false,
     "start_time": "2024-01-08T10:12:37.892808",
     "status": "completed"
    },
    "tags": []
   },
   "outputs": [
    {
     "name": "stdout",
     "output_type": "stream",
     "text": [
      "Epoch 1/5\n",
      "1719/1719 [==============================] - 6s 3ms/step - loss: 0.7187 - accuracy: 0.7615 - val_loss: 0.5087 - val_accuracy: 0.8256\n",
      "Epoch 2/5\n",
      "1719/1719 [==============================] - 5s 3ms/step - loss: 0.4876 - accuracy: 0.8295 - val_loss: 0.4415 - val_accuracy: 0.8502\n",
      "Epoch 3/5\n",
      "1719/1719 [==============================] - 6s 3ms/step - loss: 0.4422 - accuracy: 0.8442 - val_loss: 0.4191 - val_accuracy: 0.8510\n",
      "Epoch 4/5\n",
      "1719/1719 [==============================] - 6s 3ms/step - loss: 0.4155 - accuracy: 0.8540 - val_loss: 0.4079 - val_accuracy: 0.8606\n",
      "Epoch 5/5\n",
      "1719/1719 [==============================] - 5s 3ms/step - loss: 0.3944 - accuracy: 0.8624 - val_loss: 0.3882 - val_accuracy: 0.8676\n",
      "313/313 [==============================] - 1s 2ms/step - loss: 0.4246 - accuracy: 0.8501\n"
     ]
    },
    {
     "data": {
      "text/plain": [
       "[0.4246431291103363, 0.8500999808311462]"
      ]
     },
     "execution_count": 5,
     "metadata": {},
     "output_type": "execute_result"
    }
   ],
   "source": [
    "model.fit(X_train, y_train, epochs=5, validation_data=(X_valid, y_valid))\n",
    "model.evaluate(X_test, y_test) # Output test_loss and test_accuracy"
   ]
  },
  {
   "cell_type": "markdown",
   "id": "41f2629f",
   "metadata": {
    "papermill": {
     "duration": 0.045981,
     "end_time": "2024-01-08T10:13:07.293442",
     "exception": false,
     "start_time": "2024-01-08T10:13:07.247461",
     "status": "completed"
    },
    "tags": []
   },
   "source": [
    "## Visualize the Flatten Layer\n",
    "\n",
    "Seelct the first image from the test dataset, then reshape and normalize to scale its pixel values between 0 and 1. After that, we retrieve the specific layer `flatten` from our previously defined Neural Network, therefore creating a new model that captures the output specifically from this `flatten` layer only. Using this specialized model, it will output the `flatten` layer given the original image. The way of flatten an image like this allows for the use of MLP Neural Network model.\n",
    "\n",
    "```\n",
    "model = keras.models.Sequential([\n",
    "    keras.layers.Flatten(input_shape=[28, 28]), <------ We are looking at this layer\n",
    "    keras.layers.Dense(300, activation=\"relu\"),\n",
    "    keras.layers.Dense(100, activation=\"relu\"),\n",
    "    keras.layers.Dense(10, activation=\"softmax\")\n",
    "])\n",
    "```"
   ]
  },
  {
   "cell_type": "code",
   "execution_count": 6,
   "id": "971fe4cf",
   "metadata": {
    "execution": {
     "iopub.execute_input": "2024-01-08T10:13:07.384325Z",
     "iopub.status.busy": "2024-01-08T10:13:07.383925Z",
     "iopub.status.idle": "2024-01-08T10:13:08.267237Z",
     "shell.execute_reply": "2024-01-08T10:13:08.265930Z"
    },
    "papermill": {
     "duration": 0.929528,
     "end_time": "2024-01-08T10:13:08.270209",
     "exception": false,
     "start_time": "2024-01-08T10:13:07.340681",
     "status": "completed"
    },
    "tags": []
   },
   "outputs": [
    {
     "name": "stdout",
     "output_type": "stream",
     "text": [
      "1/1 [==============================] - 0s 72ms/step\n",
      "Original Image\n"
     ]
    },
    {
     "data": {
      "image/png": "[encoded data removed]",
      "text/plain": [
       "<Figure size 640x480 with 1 Axes>"
      ]
     },
     "metadata": {},
     "output_type": "display_data"
    },
    {
     "name": "stdout",
     "output_type": "stream",
     "text": [
      "After flatten\n"
     ]
    },
    {
     "data": {
      "image/png": "[encoded data removed]",
      "text/plain": [
       "<Figure size 10000x5000 with 1 Axes>"
      ]
     },
     "metadata": {},
     "output_type": "display_data"
    }
   ],
   "source": [
    "image = X_test[0]  \n",
    "input_data = image.reshape(1, 28, 28) / 255.0\n",
    "flatten_layer = model.get_layer('flatten')\n",
    "visualization_model = keras.models.Model(model.input, flatten_layer.output)\n",
    "output_data = visualization_model.predict(input_data) \n",
    "print(\"Original Image\")\n",
    "plt.imshow(image, cmap=\"gray\")\n",
    "plt.show()\n",
    "print(\"After flatten\")\n",
    "plt.figure(figsize=(100, 50)) \n",
    "plt.imshow(output_data, cmap='gray')\n",
    "plt.axis('off')\n",
    "plt.show()"
   ]
  },
  {
   "cell_type": "markdown",
   "id": "5546c69d",
   "metadata": {
    "papermill": {
     "duration": 0.045098,
     "end_time": "2024-01-08T10:13:08.385190",
     "exception": false,
     "start_time": "2024-01-08T10:13:08.340092",
     "status": "completed"
    },
    "tags": []
   },
   "source": [
    "## Reference\n",
    "- https://www.sharpsightlabs.com/blog/numpy-flatten"
   ]
  }
 ],
 "metadata": {
  "kaggle": {
   "accelerator": "none",
   "dataSources": [],
   "dockerImageVersionId": 30626,
   "isGpuEnabled": false,
   "isInternetEnabled": true,
   "language": "python",
   "sourceType": "notebook"
  },
  "kernelspec": {
   "display_name": "Python 3",
   "language": "python",
   "name": "python3"
  },
  "language_info": {
   "codemirror_mode": {
    "name": "ipython",
    "version": 3
   },
   "file_extension": ".py",
   "mimetype": "text/x-python",
   "name": "python",
   "nbconvert_exporter": "python",
   "pygments_lexer": "ipython3",
   "version": "3.10.12"
  },
  "papermill": {
   "default_parameters": {},
   "duration": 53.897461,
   "end_time": "2024-01-08T10:13:09.954094",
   "environment_variables": {},
   "exception": null,
   "input_path": "__notebook__.ipynb",
   "output_path": "__notebook__.ipynb",
   "parameters": {},
   "start_time": "2024-01-08T10:12:16.056633",
   "version": "2.4.0"
  }
 },
 "nbformat": 4,
 "nbformat_minor": 5
}
