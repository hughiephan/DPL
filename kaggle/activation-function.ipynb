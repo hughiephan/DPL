{
 "cells": [
  {
   "cell_type": "markdown",
   "id": "9a4b0601",
   "metadata": {
    "papermill": {
     "duration": 0.003888,
     "end_time": "2023-12-11T10:43:13.560725",
     "exception": false,
     "start_time": "2023-12-11T10:43:13.556837",
     "status": "completed"
    },
    "tags": []
   },
   "source": [
    "# Introduction\n",
    "\n",
    "This notebook demonstrates how different activation functions—sigmoid, tanh, and ReLU—operate on an array of numbers, showcasing their respective output transformations. Activation functions in deep learning are mathematical equations applied to the output of each neuron in a neural network. They introduce non-linearities to the network, allowing it to model complex relationships in data. The primary purpose of an activation function is to determine the output of a neural network node or neuron, typically transforming the input into the desired output, usually by introducing non-linear properties. This transformation is crucial for the network to learn complex patterns in data that linear functions alone can't capture.\n",
    "\n",
    "If you're interested in exploring similar data analysis or learning more about AI applications, then checkout my personal website https://hughiephan.co . Don't forget to upvote if you found the notebook insightful or helpful. Your feedback is valuable and can help others discover useful content."
   ]
  },
  {
   "cell_type": "markdown",
   "id": "514baa83",
   "metadata": {
    "papermill": {
     "duration": 0.001917,
     "end_time": "2023-12-11T10:43:13.565039",
     "exception": false,
     "start_time": "2023-12-11T10:43:13.563122",
     "status": "completed"
    },
    "tags": []
   },
   "source": [
    "# Initialize\n",
    "Initialize a NumPy array named 'x' containing the elements -3, -2, -1, 1, 2, and 3. The NumPy library is used to create this array, allowing for efficient numerical operations and array handling in Python."
   ]
  },
  {
   "cell_type": "code",
   "execution_count": 1,
   "id": "4d7cf693",
   "metadata": {
    "execution": {
     "iopub.execute_input": "2023-12-11T10:43:13.571078Z",
     "iopub.status.busy": "2023-12-11T10:43:13.570522Z",
     "iopub.status.idle": "2023-12-11T10:43:13.580413Z",
     "shell.execute_reply": "2023-12-11T10:43:13.579222Z"
    },
    "papermill": {
     "duration": 0.015647,
     "end_time": "2023-12-11T10:43:13.582839",
     "exception": false,
     "start_time": "2023-12-11T10:43:13.567192",
     "status": "completed"
    },
    "tags": []
   },
   "outputs": [],
   "source": [
    "import numpy as np\n",
    "x = np.array([-3, -2, -1, 1, 2, 3])"
   ]
  },
  {
   "cell_type": "markdown",
   "id": "3c703221",
   "metadata": {
    "papermill": {
     "duration": 0.001966,
     "end_time": "2023-12-11T10:43:13.587361",
     "exception": false,
     "start_time": "2023-12-11T10:43:13.585395",
     "status": "completed"
    },
    "tags": []
   },
   "source": [
    "# Sigmoid Function\n",
    "\n",
    "Calculates the sigmoid values for each element in the array 'x' using the formula and outputs the sigmoid values for the given elements.\n",
    "\n",
    "$$\\text{Sigmoid}(x) = \\frac{1}{1 + e^{-x}}$$"
   ]
  },
  {
   "cell_type": "code",
   "execution_count": 2,
   "id": "7884802d",
   "metadata": {
    "execution": {
     "iopub.execute_input": "2023-12-11T10:43:13.594025Z",
     "iopub.status.busy": "2023-12-11T10:43:13.593260Z",
     "iopub.status.idle": "2023-12-11T10:43:13.603167Z",
     "shell.execute_reply": "2023-12-11T10:43:13.601624Z"
    },
    "papermill": {
     "duration": 0.016113,
     "end_time": "2023-12-11T10:43:13.605731",
     "exception": false,
     "start_time": "2023-12-11T10:43:13.589618",
     "status": "completed"
    },
    "tags": []
   },
   "outputs": [
    {
     "name": "stdout",
     "output_type": "stream",
     "text": [
      "Sigmoid  [0.04742587 0.11920292 0.26894142 0.73105858 0.88079708 0.95257413]\n"
     ]
    }
   ],
   "source": [
    "print(\"Sigmoid \", 1 / (1 + np.exp(-x)))"
   ]
  },
  {
   "cell_type": "markdown",
   "id": "507e49b7",
   "metadata": {
    "papermill": {
     "duration": 0.002196,
     "end_time": "2023-12-11T10:43:13.610603",
     "exception": false,
     "start_time": "2023-12-11T10:43:13.608407",
     "status": "completed"
    },
    "tags": []
   },
   "source": [
    "## Tanh Function\n",
    "\n",
    "Hyperbolic Tangent (Tanh) Function: Computes the hyperbolic tangent values for each element in the array 'x' using np.tanh(x). It returns the hyperbolic tangent values of the provided elements.\n",
    "\n",
    "$$\\text{Tanh}(x) = \\tanh(x)$$"
   ]
  },
  {
   "cell_type": "code",
   "execution_count": 3,
   "id": "3e2baccc",
   "metadata": {
    "execution": {
     "iopub.execute_input": "2023-12-11T10:43:13.617505Z",
     "iopub.status.busy": "2023-12-11T10:43:13.616922Z",
     "iopub.status.idle": "2023-12-11T10:43:13.621410Z",
     "shell.execute_reply": "2023-12-11T10:43:13.620729Z"
    },
    "papermill": {
     "duration": 0.010613,
     "end_time": "2023-12-11T10:43:13.623582",
     "exception": false,
     "start_time": "2023-12-11T10:43:13.612969",
     "status": "completed"
    },
    "tags": []
   },
   "outputs": [
    {
     "name": "stdout",
     "output_type": "stream",
     "text": [
      "Tanh  [-0.99505475 -0.96402758 -0.76159416  0.76159416  0.96402758  0.99505475]\n"
     ]
    }
   ],
   "source": [
    "print(\"Tanh \", np.tanh(x))"
   ]
  },
  {
   "cell_type": "markdown",
   "id": "867f5999",
   "metadata": {
    "papermill": {
     "duration": 0.002336,
     "end_time": "2023-12-11T10:43:13.628568",
     "exception": false,
     "start_time": "2023-12-11T10:43:13.626232",
     "status": "completed"
    },
    "tags": []
   },
   "source": [
    "## Relu Function\n",
    "\n",
    "Utilizes the ReLU activation function (np.maximum(x, 0)) on the array 'x', generating output by replacing negative values with zero and retaining positive values.\n",
    "\n",
    "$$\\text{ReLU}(x) = \\max(0, x)$$"
   ]
  },
  {
   "cell_type": "code",
   "execution_count": 4,
   "id": "321a3c4e",
   "metadata": {
    "execution": {
     "iopub.execute_input": "2023-12-11T10:43:13.635352Z",
     "iopub.status.busy": "2023-12-11T10:43:13.634788Z",
     "iopub.status.idle": "2023-12-11T10:43:13.643215Z",
     "shell.execute_reply": "2023-12-11T10:43:13.642225Z"
    },
    "papermill": {
     "duration": 0.014338,
     "end_time": "2023-12-11T10:43:13.645431",
     "exception": false,
     "start_time": "2023-12-11T10:43:13.631093",
     "status": "completed"
    },
    "tags": []
   },
   "outputs": [
    {
     "name": "stdout",
     "output_type": "stream",
     "text": [
      "ReLU  [0 0 0 1 2 3]\n"
     ]
    }
   ],
   "source": [
    "print(\"ReLU \", np.maximum(x,0))"
   ]
  }
 ],
 "metadata": {
  "kaggle": {
   "accelerator": "none",
   "dataSources": [],
   "isGpuEnabled": false,
   "isInternetEnabled": true,
   "language": "python",
   "sourceType": "notebook"
  },
  "kernelspec": {
   "display_name": "Python 3",
   "language": "python",
   "name": "python3"
  },
  "language_info": {
   "codemirror_mode": {
    "name": "ipython",
    "version": 3
   },
   "file_extension": ".py",
   "mimetype": "text/x-python",
   "name": "python",
   "nbconvert_exporter": "python",
   "pygments_lexer": "ipython3",
   "version": "3.10.12"
  },
  "papermill": {
   "default_parameters": {},
   "duration": 3.088746,
   "end_time": "2023-12-11T10:43:13.968307",
   "environment_variables": {},
   "exception": null,
   "input_path": "__notebook__.ipynb",
   "output_path": "__notebook__.ipynb",
   "parameters": {},
   "start_time": "2023-12-11T10:43:10.879561",
   "version": "2.4.0"
  }
 },
 "nbformat": 4,
 "nbformat_minor": 5
}
